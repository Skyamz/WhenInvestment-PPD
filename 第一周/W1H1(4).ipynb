{
 "cells": [
  {
   "cell_type": "code",
   "execution_count": 105,
   "metadata": {
    "collapsed": true
   },
   "outputs": [],
   "source": [
    "import pandas as pd\n",
    "import numpy as np\n",
    "import datetime\n",
    "import matplotlib\n",
    "from matplotlib import pyplot as plt\n",
    "LCIS = pd.read_csv('C:\\\\Users\\\\skyamz\\\\Desktop\\\\ppdai_3_23\\\\LCIS.csv') # Loan Periodic，标的还款计划和还款记录表"
   ]
  },
  {
   "cell_type": "code",
   "execution_count": 106,
   "metadata": {},
   "outputs": [],
   "source": [
    "LCIS01 = LCIS[LCIS['recorddate'].isin(['2016/12/31', '2017/2/28','2017/1/31', '2016/11/30', '2016/10/31', '2016/9/30'])]"
   ]
  },
  {
   "cell_type": "code",
   "execution_count": 107,
   "metadata": {},
   "outputs": [
    {
     "name": "stderr",
     "output_type": "stream",
     "text": [
      "C:\\Users\\skyamz\\Anaconda2\\lib\\site-packages\\ipykernel\\__main__.py:3: SettingWithCopyWarning: \n",
      "A value is trying to be set on a copy of a slice from a DataFrame.\n",
      "Try using .loc[row_indexer,col_indexer] = value instead\n",
      "\n",
      "See the caveats in the documentation: http://pandas.pydata.org/pandas-docs/stable/indexing.html#indexing-view-versus-copy\n",
      "  app.launch_new_instance()\n",
      "C:\\Users\\skyamz\\Anaconda2\\lib\\site-packages\\ipykernel\\__main__.py:4: SettingWithCopyWarning: \n",
      "A value is trying to be set on a copy of a slice from a DataFrame.\n",
      "Try using .loc[row_indexer,col_indexer] = value instead\n",
      "\n",
      "See the caveats in the documentation: http://pandas.pydata.org/pandas-docs/stable/indexing.html#indexing-view-versus-copy\n",
      "C:\\Users\\skyamz\\Anaconda2\\lib\\site-packages\\ipykernel\\__main__.py:5: SettingWithCopyWarning: \n",
      "A value is trying to be set on a copy of a slice from a DataFrame.\n",
      "Try using .loc[row_indexer,col_indexer] = value instead\n",
      "\n",
      "See the caveats in the documentation: http://pandas.pydata.org/pandas-docs/stable/indexing.html#indexing-view-versus-copy\n"
     ]
    }
   ],
   "source": [
    "#要计算累计收益率，必须要计算罚息，当月净增坏账，利息，当月待收本金和当月月初坏\n",
    "# 计算 每月应还款额，每期本金，利息\n",
    "LCIS01['每月还款额'] = (LCIS01['借款金额']*(LCIS01['借款利率']*0.01/12)*pow(1+ LCIS01['借款利率']*0.01/12,LCIS01['借款期限'])/(pow(1+ LCIS01['借款利率']*0.01/12,LCIS01['借款期限'])-1))/LCIS01['借款期限']\n",
    "LCIS01['每月本金'] = (LCIS01['每月还款额'] - LCIS01['借款金额']*(LCIS01['借款利率']*0.01/12))*pow(1+ LCIS01['借款利率']*0.01/12,LCIS01['当前到期期数']-1)\n",
    "LCIS01['每月利息'] = LCIS01['每月还款额'] - LCIS01['每月本金']"
   ]
  },
  {
   "cell_type": "code",
   "execution_count": 108,
   "metadata": {},
   "outputs": [
    {
     "name": "stderr",
     "output_type": "stream",
     "text": [
      "C:\\Users\\skyamz\\Anaconda2\\lib\\site-packages\\ipykernel\\__main__.py:4: SettingWithCopyWarning: \n",
      "A value is trying to be set on a copy of a slice from a DataFrame.\n",
      "Try using .loc[row_indexer,col_indexer] = value instead\n",
      "\n",
      "See the caveats in the documentation: http://pandas.pydata.org/pandas-docs/stable/indexing.html#indexing-view-versus-copy\n",
      "C:\\Users\\skyamz\\Anaconda2\\lib\\site-packages\\ipykernel\\__main__.py:5: SettingWithCopyWarning: \n",
      "A value is trying to be set on a copy of a slice from a DataFrame.\n",
      "Try using .loc[row_indexer,col_indexer] = value instead\n",
      "\n",
      "See the caveats in the documentation: http://pandas.pydata.org/pandas-docs/stable/indexing.html#indexing-view-versus-copy\n"
     ]
    }
   ],
   "source": [
    "#计算罚息\n",
    "Penalty_interest_long = LCIS01[LCIS01['借款期限']>6]\n",
    "Penalty_interest_short = LCIS01[LCIS01['借款期限']<=6]\n",
    "Penalty_interest_long['罚息'] = (0.24/360)*Penalty_interest_long['每月本金']*Penalty_interest_long['标当前逾期天数']\n",
    "Penalty_interest_short['罚息'] = (0.224/360)*Penalty_interest_short['每月本金']*Penalty_interest_short['标当前逾期天数']\n",
    "Penalty_interest = pd.concat([Penalty_interest_long,Penalty_interest_short])"
   ]
  },
  {
   "cell_type": "code",
   "execution_count": 109,
   "metadata": {},
   "outputs": [
    {
     "name": "stderr",
     "output_type": "stream",
     "text": [
      "C:\\Users\\skyamz\\Anaconda2\\lib\\site-packages\\ipykernel\\__main__.py:3: SettingWithCopyWarning: \n",
      "A value is trying to be set on a copy of a slice from a DataFrame.\n",
      "Try using .loc[row_indexer,col_indexer] = value instead\n",
      "\n",
      "See the caveats in the documentation: http://pandas.pydata.org/pandas-docs/stable/indexing.html#indexing-view-versus-copy\n",
      "  app.launch_new_instance()\n"
     ]
    }
   ],
   "source": [
    "#计算坏账\n",
    "bad_debt = Penalty_interest[Penalty_interest['标当前逾期天数']>90]\n",
    "bad_debt['坏账'] = bad_debt['每月本金'] + bad_debt['每月利息']"
   ]
  },
  {
   "cell_type": "code",
   "execution_count": 120,
   "metadata": {},
   "outputs": [
    {
     "name": "stderr",
     "output_type": "stream",
     "text": [
      "C:\\Users\\skyamz\\Anaconda2\\lib\\site-packages\\ipykernel\\__main__.py:1: SettingWithCopyWarning: \n",
      "A value is trying to be set on a copy of a slice from a DataFrame.\n",
      "Try using .loc[row_indexer,col_indexer] = value instead\n",
      "\n",
      "See the caveats in the documentation: http://pandas.pydata.org/pandas-docs/stable/indexing.html#indexing-view-versus-copy\n",
      "  if __name__ == '__main__':\n"
     ]
    }
   ],
   "source": [
    "bad_debt['累计收益'] = bad_debt['每月利息']+ bad_debt['罚息'] - bad_debt['坏账']"
   ]
  },
  {
   "cell_type": "code",
   "execution_count": 121,
   "metadata": {},
   "outputs": [
    {
     "data": {
      "text/plain": [
       "recorddate\n",
       "2016/10/31   -25007.875869\n",
       "2016/11/30   -21012.781207\n",
       "2016/12/31   -13492.827609\n",
       "2016/9/30    -29208.151738\n",
       "2017/2/28     -2243.211048\n",
       "Name: 累计收益, dtype: float64"
      ]
     },
     "execution_count": 121,
     "metadata": {},
     "output_type": "execute_result"
    }
   ],
   "source": [
    "income['累计收益'] "
   ]
  },
  {
   "cell_type": "code",
   "execution_count": 122,
   "metadata": {},
   "outputs": [
    {
     "name": "stderr",
     "output_type": "stream",
     "text": [
      "C:\\Users\\skyamz\\Anaconda2\\lib\\site-packages\\ipykernel\\__main__.py:1: SettingWithCopyWarning: \n",
      "A value is trying to be set on a copy of a slice from a DataFrame.\n",
      "Try using .loc[row_indexer,col_indexer] = value instead\n",
      "\n",
      "See the caveats in the documentation: http://pandas.pydata.org/pandas-docs/stable/indexing.html#indexing-view-versus-copy\n",
      "  if __name__ == '__main__':\n"
     ]
    }
   ],
   "source": [
    "bad_debt['累计收益率'] = pow(1+ (bad_debt['每月利息']+ bad_debt['罚息'] - bad_debt['坏账'])/(bad_debt['总待还本金']+ bad_debt['坏账']),12)-1"
   ]
  },
  {
   "cell_type": "code",
   "execution_count": 123,
   "metadata": {},
   "outputs": [],
   "source": [
    "def Tran_Date(v):\n",
    "            if v == '2016/9/30':return 1609\n",
    "            elif v == '2016/10/31':return 1610\n",
    "            elif v == '2016/11/30':return 1611\n",
    "            elif v == '2016/12/31':return 1612\n",
    "            elif v == '2017/2/28' :return 1702\n",
    "            else:return 0"
   ]
  },
  {
   "cell_type": "code",
   "execution_count": 124,
   "metadata": {},
   "outputs": [
    {
     "name": "stderr",
     "output_type": "stream",
     "text": [
      "C:\\Users\\skyamz\\Anaconda2\\lib\\site-packages\\ipykernel\\__main__.py:1: SettingWithCopyWarning: \n",
      "A value is trying to be set on a copy of a slice from a DataFrame.\n",
      "Try using .loc[row_indexer,col_indexer] = value instead\n",
      "\n",
      "See the caveats in the documentation: http://pandas.pydata.org/pandas-docs/stable/indexing.html#indexing-view-versus-copy\n",
      "  if __name__ == '__main__':\n"
     ]
    }
   ],
   "source": [
    "bad_debt['newrecorddate'] = bad_debt['recorddate'].map(Tran_Date)"
   ]
  },
  {
   "cell_type": "code",
   "execution_count": 135,
   "metadata": {
    "collapsed": true
   },
   "outputs": [],
   "source": [
    "income = bad_debt.groupby('newrecorddate')['累计收益','累计收益率'].sum()\n",
    "income = income.reset_index()"
   ]
  },
  {
   "cell_type": "code",
   "execution_count": 136,
   "metadata": {},
   "outputs": [
    {
     "data": {
      "text/html": [
       "<div>\n",
       "<table border=\"1\" class=\"dataframe\">\n",
       "  <thead>\n",
       "    <tr style=\"text-align: right;\">\n",
       "      <th></th>\n",
       "      <th>newrecorddate</th>\n",
       "      <th>累计收益</th>\n",
       "      <th>累计收益率</th>\n",
       "    </tr>\n",
       "  </thead>\n",
       "  <tbody>\n",
       "    <tr>\n",
       "      <th>0</th>\n",
       "      <td>1609</td>\n",
       "      <td>-29208.151738</td>\n",
       "      <td>1.689273e+11</td>\n",
       "    </tr>\n",
       "    <tr>\n",
       "      <th>1</th>\n",
       "      <td>1610</td>\n",
       "      <td>-25007.875869</td>\n",
       "      <td>1.760231e+11</td>\n",
       "    </tr>\n",
       "    <tr>\n",
       "      <th>2</th>\n",
       "      <td>1611</td>\n",
       "      <td>-21012.781207</td>\n",
       "      <td>2.346169e+11</td>\n",
       "    </tr>\n",
       "    <tr>\n",
       "      <th>3</th>\n",
       "      <td>1612</td>\n",
       "      <td>-13492.827609</td>\n",
       "      <td>1.355482e+08</td>\n",
       "    </tr>\n",
       "    <tr>\n",
       "      <th>4</th>\n",
       "      <td>1702</td>\n",
       "      <td>-2243.211048</td>\n",
       "      <td>1.147765e+08</td>\n",
       "    </tr>\n",
       "  </tbody>\n",
       "</table>\n",
       "</div>"
      ],
      "text/plain": [
       "   newrecorddate          累计收益         累计收益率\n",
       "0           1609 -29208.151738  1.689273e+11\n",
       "1           1610 -25007.875869  1.760231e+11\n",
       "2           1611 -21012.781207  2.346169e+11\n",
       "3           1612 -13492.827609  1.355482e+08\n",
       "4           1702  -2243.211048  1.147765e+08"
      ]
     },
     "execution_count": 136,
     "metadata": {},
     "output_type": "execute_result"
    }
   ],
   "source": [
    "income"
   ]
  },
  {
   "cell_type": "code",
   "execution_count": 137,
   "metadata": {},
   "outputs": [
    {
     "data": {
      "text/plain": [
       "[<matplotlib.lines.Line2D at 0x98a9550>]"
      ]
     },
     "execution_count": 137,
     "metadata": {},
     "output_type": "execute_result"
    }
   ],
   "source": [
    "fig = plt.figure(figsize = (20,10))#设置大小\n",
    "plt.title('6month-income')#标题\n",
    "plt.xlabel('Month')#X轴\n",
    "plt.ylabel('income')#Y轴\n",
    "\n",
    "plt.plot(income['newrecorddate'],income['累计收益'],'',label='income')"
   ]
  },
  {
   "cell_type": "code",
   "execution_count": 138,
   "metadata": {},
   "outputs": [],
   "source": [
    "plt.show()"
   ]
  },
  {
   "cell_type": "code",
   "execution_count": 144,
   "metadata": {},
   "outputs": [
    {
     "data": {
      "text/plain": [
       "[<matplotlib.lines.Line2D at 0x9bcec88>]"
      ]
     },
     "execution_count": 144,
     "metadata": {},
     "output_type": "execute_result"
    }
   ],
   "source": [
    "fig = plt.figure(figsize = (20,10))#设置大小\n",
    "plt.title('6month-income-rate')#标题\n",
    "plt.xlabel('Month')#X轴\n",
    "plt.ylabel('income-rate')#Y轴\n",
    "\n",
    "plt.plot(income['newrecorddate'],income['累计收益率']/10000000000,'',label='income')"
   ]
  },
  {
   "cell_type": "code",
   "execution_count": 145,
   "metadata": {},
   "outputs": [],
   "source": [
    "plt.show()"
   ]
  },
  {
   "cell_type": "code",
   "execution_count": null,
   "metadata": {
    "collapsed": true
   },
   "outputs": [],
   "source": []
  }
 ],
 "metadata": {
  "kernelspec": {
   "display_name": "Python 3",
   "language": "python",
   "name": "python3"
  },
  "language_info": {
   "codemirror_mode": {
    "name": "ipython",
    "version": 3
   },
   "file_extension": ".py",
   "mimetype": "text/x-python",
   "name": "python",
   "nbconvert_exporter": "python",
   "pygments_lexer": "ipython3",
   "version": "3.6.3"
  }
 },
 "nbformat": 4,
 "nbformat_minor": 1
}
